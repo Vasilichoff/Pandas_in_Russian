{
 "cells": [
  {
   "cell_type": "markdown",
   "metadata": {},
   "source": [
    "# Задание 2 — Получение и изучение ваших данных\n",
    "\n"
   ]
  },
  {
   "cell_type": "markdown",
   "metadata": {},
   "source": [
    "\n",
    "Особая благодарность: https://github.com/justmarkham за предоставление набора данных и материалов.\n",
    "\n",
    "# Шаг 1. Импортируйте необходимые библиотеки."
   ]
  },
  {
   "cell_type": "code",
   "execution_count": 65,
   "metadata": {
    "collapsed": false,
    "execution": {
     "iopub.execute_input": "2025-08-29T19:11:56.638171Z",
     "iopub.status.busy": "2025-08-29T19:11:56.637865Z",
     "iopub.status.idle": "2025-08-29T19:11:56.641294Z",
     "shell.execute_reply": "2025-08-29T19:11:56.640547Z",
     "shell.execute_reply.started": "2025-08-29T19:11:56.638149Z"
    },
    "jupyter": {
     "outputs_hidden": false
    }
   },
   "outputs": [],
   "source": [
    "import pandas as pd\n",
    "import numpy as np"
   ]
  },
  {
   "cell_type": "markdown",
   "metadata": {},
   "source": [
    "# Шаг 2. Импортируйте набор данных из этого [адреса](https://raw.githubusercontent.com/justmarkham/DAT8/master/data/chipotle.tsv). "
   ]
  },
  {
   "cell_type": "markdown",
   "metadata": {},
   "source": [
    "# Шаг 3. Присвойте его переменной с именем chipo."
   ]
  },
  {
   "cell_type": "code",
   "execution_count": 66,
   "metadata": {
    "collapsed": false,
    "execution": {
     "iopub.execute_input": "2025-08-29T19:11:56.742732Z",
     "iopub.status.busy": "2025-08-29T19:11:56.742406Z",
     "iopub.status.idle": "2025-08-29T19:11:57.334985Z",
     "shell.execute_reply": "2025-08-29T19:11:57.333590Z",
     "shell.execute_reply.started": "2025-08-29T19:11:56.742710Z"
    },
    "jupyter": {
     "outputs_hidden": false
    }
   },
   "outputs": [],
   "source": [
    "url = 'https://raw.githubusercontent.com/justmarkham/DAT8/master/data/chipotle.tsv'\n",
    "    \n",
    "chipo = pd.read_csv(url, sep = '\\t')\n"
   ]
  },
  {
   "cell_type": "markdown",
   "metadata": {},
   "source": [
    "# Шаг 4. Посмотрите первые 10 записей."
   ]
  },
  {
   "cell_type": "markdown",
   "metadata": {},
   "source": [
    "### .head()\n",
    "Метод .head() в библиотеке Pandas используется для быстрого просмотра первых нескольких строк DataFrame (обычно первых 5 по умолчанию). Это один из самых популярных инструментов для предварительного анализа данных.\n",
    "\n",
    "### Как работает .head()?\n",
    "\n",
    "chipo.head(n)         # Где chipo - название Вашего DataFrame\n",
    "\n",
    "n — количество выводимых строк (по умолчанию 5)\n",
    "\n",
    "\n",
    "Возвращает:\n",
    "\n",
    "-Первые n строк DataFrame в виде таблицы.\n",
    "\n",
    "-Показывает названия колонок и индексы строк."
   ]
  },
  {
   "cell_type": "code",
   "execution_count": 67,
   "metadata": {
    "collapsed": false,
    "execution": {
     "iopub.execute_input": "2025-08-29T19:11:57.367607Z",
     "iopub.status.busy": "2025-08-29T19:11:57.367340Z",
     "iopub.status.idle": "2025-08-29T19:11:57.376998Z",
     "shell.execute_reply": "2025-08-29T19:11:57.376287Z",
     "shell.execute_reply.started": "2025-08-29T19:11:57.367589Z"
    },
    "jupyter": {
     "outputs_hidden": false
    }
   },
   "outputs": [
    {
     "data": {
      "text/html": [
       "<div>\n",
       "<style scoped>\n",
       "    .dataframe tbody tr th:only-of-type {\n",
       "        vertical-align: middle;\n",
       "    }\n",
       "\n",
       "    .dataframe tbody tr th {\n",
       "        vertical-align: top;\n",
       "    }\n",
       "\n",
       "    .dataframe thead th {\n",
       "        text-align: right;\n",
       "    }\n",
       "</style>\n",
       "<table border=\"1\" class=\"dataframe\">\n",
       "  <thead>\n",
       "    <tr style=\"text-align: right;\">\n",
       "      <th></th>\n",
       "      <th>order_id</th>\n",
       "      <th>quantity</th>\n",
       "      <th>item_name</th>\n",
       "      <th>choice_description</th>\n",
       "      <th>item_price</th>\n",
       "    </tr>\n",
       "  </thead>\n",
       "  <tbody>\n",
       "    <tr>\n",
       "      <th>0</th>\n",
       "      <td>1</td>\n",
       "      <td>1</td>\n",
       "      <td>Chips and Fresh Tomato Salsa</td>\n",
       "      <td>NaN</td>\n",
       "      <td>$2.39</td>\n",
       "    </tr>\n",
       "    <tr>\n",
       "      <th>1</th>\n",
       "      <td>1</td>\n",
       "      <td>1</td>\n",
       "      <td>Izze</td>\n",
       "      <td>[Clementine]</td>\n",
       "      <td>$3.39</td>\n",
       "    </tr>\n",
       "    <tr>\n",
       "      <th>2</th>\n",
       "      <td>1</td>\n",
       "      <td>1</td>\n",
       "      <td>Nantucket Nectar</td>\n",
       "      <td>[Apple]</td>\n",
       "      <td>$3.39</td>\n",
       "    </tr>\n",
       "    <tr>\n",
       "      <th>3</th>\n",
       "      <td>1</td>\n",
       "      <td>1</td>\n",
       "      <td>Chips and Tomatillo-Green Chili Salsa</td>\n",
       "      <td>NaN</td>\n",
       "      <td>$2.39</td>\n",
       "    </tr>\n",
       "    <tr>\n",
       "      <th>4</th>\n",
       "      <td>2</td>\n",
       "      <td>2</td>\n",
       "      <td>Chicken Bowl</td>\n",
       "      <td>[Tomatillo-Red Chili Salsa (Hot), [Black Beans...</td>\n",
       "      <td>$16.98</td>\n",
       "    </tr>\n",
       "    <tr>\n",
       "      <th>5</th>\n",
       "      <td>3</td>\n",
       "      <td>1</td>\n",
       "      <td>Chicken Bowl</td>\n",
       "      <td>[Fresh Tomato Salsa (Mild), [Rice, Cheese, Sou...</td>\n",
       "      <td>$10.98</td>\n",
       "    </tr>\n",
       "    <tr>\n",
       "      <th>6</th>\n",
       "      <td>3</td>\n",
       "      <td>1</td>\n",
       "      <td>Side of Chips</td>\n",
       "      <td>NaN</td>\n",
       "      <td>$1.69</td>\n",
       "    </tr>\n",
       "    <tr>\n",
       "      <th>7</th>\n",
       "      <td>4</td>\n",
       "      <td>1</td>\n",
       "      <td>Steak Burrito</td>\n",
       "      <td>[Tomatillo Red Chili Salsa, [Fajita Vegetables...</td>\n",
       "      <td>$11.75</td>\n",
       "    </tr>\n",
       "    <tr>\n",
       "      <th>8</th>\n",
       "      <td>4</td>\n",
       "      <td>1</td>\n",
       "      <td>Steak Soft Tacos</td>\n",
       "      <td>[Tomatillo Green Chili Salsa, [Pinto Beans, Ch...</td>\n",
       "      <td>$9.25</td>\n",
       "    </tr>\n",
       "    <tr>\n",
       "      <th>9</th>\n",
       "      <td>5</td>\n",
       "      <td>1</td>\n",
       "      <td>Steak Burrito</td>\n",
       "      <td>[Fresh Tomato Salsa, [Rice, Black Beans, Pinto...</td>\n",
       "      <td>$9.25</td>\n",
       "    </tr>\n",
       "  </tbody>\n",
       "</table>\n",
       "</div>"
      ],
      "text/plain": [
       "   order_id  quantity                              item_name  \\\n",
       "0         1         1           Chips and Fresh Tomato Salsa   \n",
       "1         1         1                                   Izze   \n",
       "2         1         1                       Nantucket Nectar   \n",
       "3         1         1  Chips and Tomatillo-Green Chili Salsa   \n",
       "4         2         2                           Chicken Bowl   \n",
       "5         3         1                           Chicken Bowl   \n",
       "6         3         1                          Side of Chips   \n",
       "7         4         1                          Steak Burrito   \n",
       "8         4         1                       Steak Soft Tacos   \n",
       "9         5         1                          Steak Burrito   \n",
       "\n",
       "                                  choice_description item_price  \n",
       "0                                                NaN     $2.39   \n",
       "1                                       [Clementine]     $3.39   \n",
       "2                                            [Apple]     $3.39   \n",
       "3                                                NaN     $2.39   \n",
       "4  [Tomatillo-Red Chili Salsa (Hot), [Black Beans...    $16.98   \n",
       "5  [Fresh Tomato Salsa (Mild), [Rice, Cheese, Sou...    $10.98   \n",
       "6                                                NaN     $1.69   \n",
       "7  [Tomatillo Red Chili Salsa, [Fajita Vegetables...    $11.75   \n",
       "8  [Tomatillo Green Chili Salsa, [Pinto Beans, Ch...     $9.25   \n",
       "9  [Fresh Tomato Salsa, [Rice, Black Beans, Pinto...     $9.25   "
      ]
     },
     "execution_count": 67,
     "metadata": {},
     "output_type": "execute_result"
    }
   ],
   "source": [
    "chipo.head(10)"
   ]
  },
  {
   "cell_type": "markdown",
   "metadata": {},
   "source": [
    "# Шаг 5. Сколько строк в таблице?"
   ]
  },
  {
   "cell_type": "code",
   "execution_count": 68,
   "metadata": {
    "collapsed": false,
    "execution": {
     "iopub.execute_input": "2025-08-29T19:11:57.395150Z",
     "iopub.status.busy": "2025-08-29T19:11:57.394751Z",
     "iopub.status.idle": "2025-08-29T19:11:57.398754Z",
     "shell.execute_reply": "2025-08-29T19:11:57.398315Z",
     "shell.execute_reply.started": "2025-08-29T19:11:57.395130Z"
    },
    "jupyter": {
     "outputs_hidden": false
    }
   },
   "outputs": [
    {
     "data": {
      "text/plain": [
       "4622"
      ]
     },
     "execution_count": 68,
     "metadata": {},
     "output_type": "execute_result"
    }
   ],
   "source": [
    "# Решение 1\n",
    "\n",
    "chipo.shape[0]  # Количество строк <= 4622 "
   ]
  },
  {
   "cell_type": "code",
   "execution_count": 69,
   "metadata": {
    "collapsed": false,
    "execution": {
     "iopub.execute_input": "2025-08-29T19:11:57.400337Z",
     "iopub.status.busy": "2025-08-29T19:11:57.399952Z",
     "iopub.status.idle": "2025-08-29T19:11:57.408214Z",
     "shell.execute_reply": "2025-08-29T19:11:57.407844Z",
     "shell.execute_reply.started": "2025-08-29T19:11:57.400315Z"
    },
    "jupyter": {
     "outputs_hidden": false
    }
   },
   "outputs": [
    {
     "name": "stdout",
     "output_type": "stream",
     "text": [
      "<class 'pandas.core.frame.DataFrame'>\n",
      "RangeIndex: 4622 entries, 0 to 4621\n",
      "Data columns (total 5 columns):\n",
      " #   Column              Non-Null Count  Dtype \n",
      "---  ------              --------------  ----- \n",
      " 0   order_id            4622 non-null   int64 \n",
      " 1   quantity            4622 non-null   int64 \n",
      " 2   item_name           4622 non-null   object\n",
      " 3   choice_description  3376 non-null   object\n",
      " 4   item_price          4622 non-null   object\n",
      "dtypes: int64(2), object(3)\n",
      "memory usage: 180.7+ KB\n"
     ]
    }
   ],
   "source": [
    "# Решение 2\n",
    "\n",
    "chipo.info() # Количество строк <= 4622"
   ]
  },
  {
   "cell_type": "markdown",
   "metadata": {},
   "source": [
    "# Шаг 6. Сколько столбцов в таблице?"
   ]
  },
  {
   "cell_type": "code",
   "execution_count": 70,
   "metadata": {
    "collapsed": false,
    "execution": {
     "iopub.execute_input": "2025-08-29T19:11:57.488965Z",
     "iopub.status.busy": "2025-08-29T19:11:57.488402Z",
     "iopub.status.idle": "2025-08-29T19:11:57.493110Z",
     "shell.execute_reply": "2025-08-29T19:11:57.492454Z",
     "shell.execute_reply.started": "2025-08-29T19:11:57.488936Z"
    },
    "jupyter": {
     "outputs_hidden": false
    }
   },
   "outputs": [
    {
     "data": {
      "text/plain": [
       "5"
      ]
     },
     "execution_count": 70,
     "metadata": {},
     "output_type": "execute_result"
    }
   ],
   "source": [
    "chipo.shape[1]"
   ]
  },
  {
   "cell_type": "markdown",
   "metadata": {},
   "source": [
    "# Шаг 7. Выведи все имена столбцов в таблице?"
   ]
  },
  {
   "cell_type": "code",
   "execution_count": 71,
   "metadata": {
    "collapsed": false,
    "execution": {
     "iopub.execute_input": "2025-08-29T19:11:57.777716Z",
     "iopub.status.busy": "2025-08-29T19:11:57.777454Z",
     "iopub.status.idle": "2025-08-29T19:11:57.782288Z",
     "shell.execute_reply": "2025-08-29T19:11:57.781685Z",
     "shell.execute_reply.started": "2025-08-29T19:11:57.777696Z"
    },
    "jupyter": {
     "outputs_hidden": false
    }
   },
   "outputs": [
    {
     "data": {
      "text/plain": [
       "Index(['order_id', 'quantity', 'item_name', 'choice_description',\n",
       "       'item_price'],\n",
       "      dtype='object')"
      ]
     },
     "execution_count": 71,
     "metadata": {},
     "output_type": "execute_result"
    }
   ],
   "source": [
    "chipo.columns"
   ]
  },
  {
   "cell_type": "markdown",
   "metadata": {},
   "source": [
    "# Шаг 8. Как проиндексирована таблица?"
   ]
  },
  {
   "cell_type": "code",
   "execution_count": 72,
   "metadata": {
    "collapsed": false,
    "execution": {
     "iopub.execute_input": "2025-08-29T19:11:58.259284Z",
     "iopub.status.busy": "2025-08-29T19:11:58.258909Z",
     "iopub.status.idle": "2025-08-29T19:11:58.264361Z",
     "shell.execute_reply": "2025-08-29T19:11:58.263824Z",
     "shell.execute_reply.started": "2025-08-29T19:11:58.259255Z"
    },
    "jupyter": {
     "outputs_hidden": false
    }
   },
   "outputs": [
    {
     "data": {
      "text/plain": [
       "RangeIndex(start=0, stop=4622, step=1)"
      ]
     },
     "execution_count": 72,
     "metadata": {},
     "output_type": "execute_result"
    }
   ],
   "source": [
    "chipo.index"
   ]
  },
  {
   "cell_type": "markdown",
   "metadata": {},
   "source": [
    "# Шаг 9. Какой самый заказываемый товар?"
   ]
  },
  {
   "cell_type": "markdown",
   "metadata": {},
   "source": [
    "## .groupby('Название_столбца'): Это ключевая операция в Pandas.\n",
    "\n",
    "Что она делает: Она группирует все строки вашей таблицы по уникальным значениям в столбце который вы указали в скобках. В нашем случае'item_name'\n",
    "\n",
    "Как это работает: Представьте, что вы берете всю таблицу и раскладываете ее на стопки. Все строки, где в колонке item_name написано \"Chicken Bowl\", кладутся в одну стопку. Все строки с \"Canned Soda\" — в другую. И так для каждого наименования товара.\n",
    "\n",
    "Результат (c): После этой операции c становится не обычным DataFrame, а специальным объектом DataFrameGroupBy. Это просто \"сгруппированные данные\". Сами по себе они не отображаются как таблица, но являются готовой основой для дальнейших вычислений над каждой группой."
   ]
  },
  {
   "cell_type": "code",
   "execution_count": 73,
   "metadata": {
    "execution": {
     "iopub.execute_input": "2025-08-29T19:11:59.300520Z",
     "iopub.status.busy": "2025-08-29T19:11:59.300149Z",
     "iopub.status.idle": "2025-08-29T19:11:59.304724Z",
     "shell.execute_reply": "2025-08-29T19:11:59.303910Z",
     "shell.execute_reply.started": "2025-08-29T19:11:59.300492Z"
    }
   },
   "outputs": [],
   "source": [
    "c = chipo.groupby('item_name')"
   ]
  },
  {
   "cell_type": "code",
   "execution_count": 74,
   "metadata": {
    "execution": {
     "iopub.execute_input": "2025-08-29T19:11:59.579040Z",
     "iopub.status.busy": "2025-08-29T19:11:59.578767Z",
     "iopub.status.idle": "2025-08-29T19:11:59.582503Z",
     "shell.execute_reply": "2025-08-29T19:11:59.581902Z",
     "shell.execute_reply.started": "2025-08-29T19:11:59.579019Z"
    }
   },
   "outputs": [
    {
     "name": "stdout",
     "output_type": "stream",
     "text": [
      "<pandas.core.groupby.generic.DataFrameGroupBy object at 0x000001E2268362D0>\n"
     ]
    }
   ],
   "source": [
    "print(c) # Вывести у нас не получится, только узнаем, что это объект DaraFrameGroupBY"
   ]
  },
  {
   "cell_type": "markdown",
   "metadata": {},
   "source": [
    "### Но теперь с этим объектом мы можем выполнить определенные операции:\n"
   ]
  },
  {
   "cell_type": "markdown",
   "metadata": {},
   "source": [
    ".sum() – сумма значений\n",
    "\n",
    ".mean() – среднее\n",
    "\n",
    ".median() – медиана\n",
    "\n",
    ".min(), .max() – минимум / максимум\n",
    "\n",
    ".count() – количество ненулевых значений\n",
    "\n",
    ".size() – размер группы (всех строк)\n",
    "\n",
    ".nunique() – количество уникальных значений\n",
    "\n",
    ".first(), .last() – первый / последний элемент\n",
    "\n",
    ".prod() – произведение\n",
    "\n",
    ".std(), .var() – стандартное отклонение / дисперсия\n",
    "\n",
    ".sem() – стандартная ошибка среднего"
   ]
  },
  {
   "cell_type": "code",
   "execution_count": 75,
   "metadata": {
    "execution": {
     "iopub.execute_input": "2025-08-29T19:12:00.821161Z",
     "iopub.status.busy": "2025-08-29T19:12:00.820883Z",
     "iopub.status.idle": "2025-08-29T19:12:00.834452Z",
     "shell.execute_reply": "2025-08-29T19:12:00.833967Z",
     "shell.execute_reply.started": "2025-08-29T19:12:00.821140Z"
    }
   },
   "outputs": [
    {
     "data": {
      "text/html": [
       "<div>\n",
       "<style scoped>\n",
       "    .dataframe tbody tr th:only-of-type {\n",
       "        vertical-align: middle;\n",
       "    }\n",
       "\n",
       "    .dataframe tbody tr th {\n",
       "        vertical-align: top;\n",
       "    }\n",
       "\n",
       "    .dataframe thead th {\n",
       "        text-align: right;\n",
       "    }\n",
       "</style>\n",
       "<table border=\"1\" class=\"dataframe\">\n",
       "  <thead>\n",
       "    <tr style=\"text-align: right;\">\n",
       "      <th></th>\n",
       "      <th>order_id</th>\n",
       "      <th>quantity</th>\n",
       "      <th>choice_description</th>\n",
       "      <th>item_price</th>\n",
       "    </tr>\n",
       "    <tr>\n",
       "      <th>item_name</th>\n",
       "      <th></th>\n",
       "      <th></th>\n",
       "      <th></th>\n",
       "      <th></th>\n",
       "    </tr>\n",
       "  </thead>\n",
       "  <tbody>\n",
       "    <tr>\n",
       "      <th>6 Pack Soft Drink</th>\n",
       "      <td>52322</td>\n",
       "      <td>55</td>\n",
       "      <td>[Sprite][Diet Coke][Coke][Diet Coke][Diet Coke...</td>\n",
       "      <td>$6.49 $6.49 $6.49 $6.49 $6.49 $6.49 $6.49 $6.4...</td>\n",
       "    </tr>\n",
       "    <tr>\n",
       "      <th>Barbacoa Bowl</th>\n",
       "      <td>53972</td>\n",
       "      <td>66</td>\n",
       "      <td>[Roasted Chili Corn Salsa, [Fajita Vegetables,...</td>\n",
       "      <td>$11.75 $11.75 $9.25 $8.99 $9.25 $11.75 $9.25 $...</td>\n",
       "    </tr>\n",
       "    <tr>\n",
       "      <th>Barbacoa Burrito</th>\n",
       "      <td>74718</td>\n",
       "      <td>91</td>\n",
       "      <td>[[Fresh Tomato Salsa (Mild), Tomatillo-Green C...</td>\n",
       "      <td>$8.99 $9.25 $9.25 $11.75 $11.75 $9.25 $8.99 $1...</td>\n",
       "    </tr>\n",
       "    <tr>\n",
       "      <th>Barbacoa Crispy Tacos</th>\n",
       "      <td>5613</td>\n",
       "      <td>12</td>\n",
       "      <td>[Tomatillo Red Chili Salsa, [Rice, Black Beans...</td>\n",
       "      <td>$11.75 $9.25 $11.48 $11.75 $9.25 $9.25 $8.99 $...</td>\n",
       "    </tr>\n",
       "    <tr>\n",
       "      <th>Barbacoa Salad Bowl</th>\n",
       "      <td>9708</td>\n",
       "      <td>10</td>\n",
       "      <td>[Fresh Tomato Salsa, [Rice, Fajita Vegetables,...</td>\n",
       "      <td>$11.89 $11.89 $9.39 $9.39 $9.39 $11.89 $11.89 ...</td>\n",
       "    </tr>\n",
       "  </tbody>\n",
       "</table>\n",
       "</div>"
      ],
      "text/plain": [
       "                       order_id  quantity  \\\n",
       "item_name                                   \n",
       "6 Pack Soft Drink         52322        55   \n",
       "Barbacoa Bowl             53972        66   \n",
       "Barbacoa Burrito          74718        91   \n",
       "Barbacoa Crispy Tacos      5613        12   \n",
       "Barbacoa Salad Bowl        9708        10   \n",
       "\n",
       "                                                      choice_description  \\\n",
       "item_name                                                                  \n",
       "6 Pack Soft Drink      [Sprite][Diet Coke][Coke][Diet Coke][Diet Coke...   \n",
       "Barbacoa Bowl          [Roasted Chili Corn Salsa, [Fajita Vegetables,...   \n",
       "Barbacoa Burrito       [[Fresh Tomato Salsa (Mild), Tomatillo-Green C...   \n",
       "Barbacoa Crispy Tacos  [Tomatillo Red Chili Salsa, [Rice, Black Beans...   \n",
       "Barbacoa Salad Bowl    [Fresh Tomato Salsa, [Rice, Fajita Vegetables,...   \n",
       "\n",
       "                                                              item_price  \n",
       "item_name                                                                 \n",
       "6 Pack Soft Drink      $6.49 $6.49 $6.49 $6.49 $6.49 $6.49 $6.49 $6.4...  \n",
       "Barbacoa Bowl          $11.75 $11.75 $9.25 $8.99 $9.25 $11.75 $9.25 $...  \n",
       "Barbacoa Burrito       $8.99 $9.25 $9.25 $11.75 $11.75 $9.25 $8.99 $1...  \n",
       "Barbacoa Crispy Tacos  $11.75 $9.25 $11.48 $11.75 $9.25 $9.25 $8.99 $...  \n",
       "Barbacoa Salad Bowl    $11.89 $11.89 $9.39 $9.39 $9.39 $11.89 $11.89 ...  "
      ]
     },
     "execution_count": 75,
     "metadata": {},
     "output_type": "execute_result"
    }
   ],
   "source": [
    "c_sum = c.sum() # Суммирует все остальные строки по уникальному значению в 'item_name'\n",
    "c_sum.head() "
   ]
  },
  {
   "cell_type": "markdown",
   "metadata": {
    "execution": {
     "iopub.execute_input": "2025-08-27T11:05:20.576634Z",
     "iopub.status.busy": "2025-08-27T11:05:20.575904Z",
     "iopub.status.idle": "2025-08-27T11:05:20.582678Z",
     "shell.execute_reply": "2025-08-27T11:05:20.581586Z",
     "shell.execute_reply.started": "2025-08-27T11:05:20.576606Z"
    }
   },
   "source": [
    "### .sort_values('Example')\n",
    "\n",
    "Функция .sort_values помогает отсортировать список по столбцу выбранному в скобках, в нашем случае это 'quantity'.\n",
    "\n",
    "По умолчанию сортировка происходит от самого маленького значения к самому большому, поэтому ставим дополнительный параметр:\n",
    "ascending = False, по умолчанию ascending = True\n",
    "\n",
    "sort = df.sort_values('quantity')\n",
    "\n",
    "Это то же самое, что и:\n",
    "\n",
    "sort = df.sort_values('quantity', ascending=True)"
   ]
  },
  {
   "cell_type": "code",
   "execution_count": 76,
   "metadata": {
    "collapsed": false,
    "execution": {
     "iopub.execute_input": "2025-08-29T19:12:01.502377Z",
     "iopub.status.busy": "2025-08-29T19:12:01.502109Z",
     "iopub.status.idle": "2025-08-29T19:12:01.512124Z",
     "shell.execute_reply": "2025-08-29T19:12:01.509773Z",
     "shell.execute_reply.started": "2025-08-29T19:12:01.502358Z"
    },
    "jupyter": {
     "outputs_hidden": false
    }
   },
   "outputs": [
    {
     "data": {
      "text/html": [
       "<div>\n",
       "<style scoped>\n",
       "    .dataframe tbody tr th:only-of-type {\n",
       "        vertical-align: middle;\n",
       "    }\n",
       "\n",
       "    .dataframe tbody tr th {\n",
       "        vertical-align: top;\n",
       "    }\n",
       "\n",
       "    .dataframe thead th {\n",
       "        text-align: right;\n",
       "    }\n",
       "</style>\n",
       "<table border=\"1\" class=\"dataframe\">\n",
       "  <thead>\n",
       "    <tr style=\"text-align: right;\">\n",
       "      <th></th>\n",
       "      <th>order_id</th>\n",
       "      <th>quantity</th>\n",
       "      <th>choice_description</th>\n",
       "      <th>item_price</th>\n",
       "    </tr>\n",
       "    <tr>\n",
       "      <th>item_name</th>\n",
       "      <th></th>\n",
       "      <th></th>\n",
       "      <th></th>\n",
       "      <th></th>\n",
       "    </tr>\n",
       "  </thead>\n",
       "  <tbody>\n",
       "    <tr>\n",
       "      <th>Chicken Bowl</th>\n",
       "      <td>713926</td>\n",
       "      <td>761</td>\n",
       "      <td>[Tomatillo-Red Chili Salsa (Hot), [Black Beans...</td>\n",
       "      <td>$16.98 $10.98 $11.25 $8.75 $8.49 $11.25 $8.75 ...</td>\n",
       "    </tr>\n",
       "  </tbody>\n",
       "</table>\n",
       "</div>"
      ],
      "text/plain": [
       "              order_id  quantity  \\\n",
       "item_name                          \n",
       "Chicken Bowl    713926       761   \n",
       "\n",
       "                                             choice_description  \\\n",
       "item_name                                                         \n",
       "Chicken Bowl  [Tomatillo-Red Chili Salsa (Hot), [Black Beans...   \n",
       "\n",
       "                                                     item_price  \n",
       "item_name                                                        \n",
       "Chicken Bowl  $16.98 $10.98 $11.25 $8.75 $8.49 $11.25 $8.75 ...  "
      ]
     },
     "execution_count": 76,
     "metadata": {},
     "output_type": "execute_result"
    }
   ],
   "source": [
    "c = c_sum.sort_values('quantity', ascending=False) #\n",
    "c.head(1)"
   ]
  },
  {
   "cell_type": "markdown",
   "metadata": {},
   "source": [
    "### Шаг 10. Сколько раз был заказан самый популярный товар?"
   ]
  },
  {
   "cell_type": "code",
   "execution_count": 77,
   "metadata": {
    "collapsed": false,
    "execution": {
     "iopub.execute_input": "2025-08-29T19:12:02.209998Z",
     "iopub.status.busy": "2025-08-29T19:12:02.209727Z",
     "iopub.status.idle": "2025-08-29T19:12:02.225264Z",
     "shell.execute_reply": "2025-08-29T19:12:02.224749Z",
     "shell.execute_reply.started": "2025-08-29T19:12:02.209976Z"
    },
    "jupyter": {
     "outputs_hidden": false
    }
   },
   "outputs": [
    {
     "data": {
      "text/html": [
       "<div>\n",
       "<style scoped>\n",
       "    .dataframe tbody tr th:only-of-type {\n",
       "        vertical-align: middle;\n",
       "    }\n",
       "\n",
       "    .dataframe tbody tr th {\n",
       "        vertical-align: top;\n",
       "    }\n",
       "\n",
       "    .dataframe thead th {\n",
       "        text-align: right;\n",
       "    }\n",
       "</style>\n",
       "<table border=\"1\" class=\"dataframe\">\n",
       "  <thead>\n",
       "    <tr style=\"text-align: right;\">\n",
       "      <th></th>\n",
       "      <th>order_id</th>\n",
       "      <th>quantity</th>\n",
       "      <th>choice_description</th>\n",
       "      <th>item_price</th>\n",
       "    </tr>\n",
       "    <tr>\n",
       "      <th>item_name</th>\n",
       "      <th></th>\n",
       "      <th></th>\n",
       "      <th></th>\n",
       "      <th></th>\n",
       "    </tr>\n",
       "  </thead>\n",
       "  <tbody>\n",
       "    <tr>\n",
       "      <th>Chicken Bowl</th>\n",
       "      <td>713926</td>\n",
       "      <td>761</td>\n",
       "      <td>[Tomatillo-Red Chili Salsa (Hot), [Black Beans...</td>\n",
       "      <td>$16.98 $10.98 $11.25 $8.75 $8.49 $11.25 $8.75 ...</td>\n",
       "    </tr>\n",
       "  </tbody>\n",
       "</table>\n",
       "</div>"
      ],
      "text/plain": [
       "              order_id  quantity  \\\n",
       "item_name                          \n",
       "Chicken Bowl    713926       761   \n",
       "\n",
       "                                             choice_description  \\\n",
       "item_name                                                         \n",
       "Chicken Bowl  [Tomatillo-Red Chili Salsa (Hot), [Black Beans...   \n",
       "\n",
       "                                                     item_price  \n",
       "item_name                                                        \n",
       "Chicken Bowl  $16.98 $10.98 $11.25 $8.75 $8.49 $11.25 $8.75 ...  "
      ]
     },
     "execution_count": 77,
     "metadata": {},
     "output_type": "execute_result"
    }
   ],
   "source": [
    "c = chipo.groupby('item_name')\n",
    "c = c.sum()\n",
    "c = c.sort_values(['quantity'], ascending=False)\n",
    "c.head(1)"
   ]
  },
  {
   "cell_type": "markdown",
   "metadata": {},
   "source": [
    "# Шаг 11. Какой товар в столбце choice_description был заказан чаще всего?"
   ]
  },
  {
   "cell_type": "code",
   "execution_count": 78,
   "metadata": {
    "collapsed": false,
    "execution": {
     "iopub.execute_input": "2025-08-29T19:12:03.058958Z",
     "iopub.status.busy": "2025-08-29T19:12:03.058684Z",
     "iopub.status.idle": "2025-08-29T19:12:03.069441Z",
     "shell.execute_reply": "2025-08-29T19:12:03.068969Z",
     "shell.execute_reply.started": "2025-08-29T19:12:03.058940Z"
    },
    "jupyter": {
     "outputs_hidden": false
    }
   },
   "outputs": [
    {
     "data": {
      "text/html": [
       "<div>\n",
       "<style scoped>\n",
       "    .dataframe tbody tr th:only-of-type {\n",
       "        vertical-align: middle;\n",
       "    }\n",
       "\n",
       "    .dataframe tbody tr th {\n",
       "        vertical-align: top;\n",
       "    }\n",
       "\n",
       "    .dataframe thead th {\n",
       "        text-align: right;\n",
       "    }\n",
       "</style>\n",
       "<table border=\"1\" class=\"dataframe\">\n",
       "  <thead>\n",
       "    <tr style=\"text-align: right;\">\n",
       "      <th></th>\n",
       "      <th>order_id</th>\n",
       "      <th>quantity</th>\n",
       "      <th>item_name</th>\n",
       "      <th>item_price</th>\n",
       "    </tr>\n",
       "    <tr>\n",
       "      <th>choice_description</th>\n",
       "      <th></th>\n",
       "      <th></th>\n",
       "      <th></th>\n",
       "      <th></th>\n",
       "    </tr>\n",
       "  </thead>\n",
       "  <tbody>\n",
       "    <tr>\n",
       "      <th>[Diet Coke]</th>\n",
       "      <td>123455</td>\n",
       "      <td>159</td>\n",
       "      <td>Canned SodaCanned SodaCanned Soda6 Pack Soft D...</td>\n",
       "      <td>$2.18 $1.09 $1.09 $6.49 $2.18 $1.25 $1.09 $6.4...</td>\n",
       "    </tr>\n",
       "  </tbody>\n",
       "</table>\n",
       "</div>"
      ],
      "text/plain": [
       "                    order_id  quantity  \\\n",
       "choice_description                       \n",
       "[Diet Coke]           123455       159   \n",
       "\n",
       "                                                            item_name  \\\n",
       "choice_description                                                      \n",
       "[Diet Coke]         Canned SodaCanned SodaCanned Soda6 Pack Soft D...   \n",
       "\n",
       "                                                           item_price  \n",
       "choice_description                                                     \n",
       "[Diet Coke]         $2.18 $1.09 $1.09 $6.49 $2.18 $1.25 $1.09 $6.4...  "
      ]
     },
     "execution_count": 78,
     "metadata": {},
     "output_type": "execute_result"
    }
   ],
   "source": [
    "c = chipo.groupby('choice_description').sum()\n",
    "c = c.sort_values(['quantity'], ascending=False)\n",
    "c.head(1)\n",
    "# Diet Coke 159"
   ]
  },
  {
   "cell_type": "markdown",
   "metadata": {},
   "source": [
    "# Шаг 12. Сколько всего товаров было заказано?"
   ]
  },
  {
   "cell_type": "markdown",
   "metadata": {
    "execution": {
     "iopub.execute_input": "2025-08-27T11:24:52.525993Z",
     "iopub.status.busy": "2025-08-27T11:24:52.525143Z",
     "iopub.status.idle": "2025-08-27T11:24:52.533951Z",
     "shell.execute_reply": "2025-08-27T11:24:52.532843Z",
     "shell.execute_reply.started": "2025-08-27T11:24:52.525937Z"
    }
   },
   "source": [
    "Мы уже раньше ознакомились с функциями, которые применяются к объекту groupby, их можно применять и к столбцам."
   ]
  },
  {
   "cell_type": "code",
   "execution_count": 79,
   "metadata": {
    "collapsed": false,
    "execution": {
     "iopub.execute_input": "2025-08-29T19:12:03.742339Z",
     "iopub.status.busy": "2025-08-29T19:12:03.741965Z",
     "iopub.status.idle": "2025-08-29T19:12:03.748527Z",
     "shell.execute_reply": "2025-08-29T19:12:03.747606Z",
     "shell.execute_reply.started": "2025-08-29T19:12:03.742310Z"
    },
    "jupyter": {
     "outputs_hidden": false
    }
   },
   "outputs": [
    {
     "data": {
      "text/plain": [
       "np.int64(4972)"
      ]
     },
     "execution_count": 79,
     "metadata": {},
     "output_type": "execute_result"
    }
   ],
   "source": [
    "total_items_orders = chipo['quantity'].sum()\n",
    "total_items_orders"
   ]
  },
  {
   "cell_type": "markdown",
   "metadata": {},
   "source": [
    "# Шаг 13. Превратите цену товара в число с плавающей точкой"
   ]
  },
  {
   "cell_type": "markdown",
   "metadata": {},
   "source": [
    "#### Шаг 13.а. Проверьте тип данных цены товара"
   ]
  },
  {
   "cell_type": "code",
   "execution_count": 80,
   "metadata": {
    "collapsed": false,
    "execution": {
     "iopub.execute_input": "2025-08-29T19:12:04.264129Z",
     "iopub.status.busy": "2025-08-29T19:12:04.263222Z",
     "iopub.status.idle": "2025-08-29T19:12:04.268360Z",
     "shell.execute_reply": "2025-08-29T19:12:04.267940Z",
     "shell.execute_reply.started": "2025-08-29T19:12:04.264107Z"
    },
    "jupyter": {
     "outputs_hidden": false
    }
   },
   "outputs": [
    {
     "data": {
      "text/plain": [
       "dtype('O')"
      ]
     },
     "execution_count": 80,
     "metadata": {},
     "output_type": "execute_result"
    }
   ],
   "source": [
    "chipo['item_price'].dtype"
   ]
  },
  {
   "cell_type": "markdown",
   "metadata": {},
   "source": [
    "#### Шаг 13.б. Создайте лямбда-функцию и измените тип данных цены товара.\n"
   ]
  },
  {
   "cell_type": "markdown",
   "metadata": {},
   "source": [
    "### .apply() \n",
    "\"то метод в pandas, который позволяет применять функцию к строкам или столбцам таблицы (DataFrame) или к значениям в колонке (Series).\n",
    "\n",
    "\n",
    "Это как сказать: «Возьми каждую строку/колонку и сделай с ней что-то по правилам»."
   ]
  },
  {
   "cell_type": "code",
   "execution_count": 81,
   "metadata": {
    "execution": {
     "iopub.execute_input": "2025-08-29T19:12:04.807658Z",
     "iopub.status.busy": "2025-08-29T19:12:04.807279Z",
     "iopub.status.idle": "2025-08-29T19:12:04.814669Z",
     "shell.execute_reply": "2025-08-29T19:12:04.814071Z",
     "shell.execute_reply.started": "2025-08-29T19:12:04.807630Z"
    }
   },
   "outputs": [],
   "source": [
    "dollarizer = lambda x: float(x[1:]) # Берем срез со второго символа, чтобы убрать $ в начале\n",
    "chipo['item_price'] = chipo['item_price'].apply(dollarizer) # Применяем функцию dollarizer к столбцу 'item_price'"
   ]
  },
  {
   "cell_type": "markdown",
   "metadata": {},
   "source": [
    "#### Шаг 13.c. Проверьте тип цены товара"
   ]
  },
  {
   "cell_type": "code",
   "execution_count": 82,
   "metadata": {
    "collapsed": false,
    "execution": {
     "iopub.execute_input": "2025-08-29T19:12:05.191699Z",
     "iopub.status.busy": "2025-08-29T19:12:05.191426Z",
     "iopub.status.idle": "2025-08-29T19:12:05.196130Z",
     "shell.execute_reply": "2025-08-29T19:12:05.195557Z",
     "shell.execute_reply.started": "2025-08-29T19:12:05.191679Z"
    },
    "jupyter": {
     "outputs_hidden": false
    }
   },
   "outputs": [
    {
     "data": {
      "text/plain": [
       "dtype('float64')"
      ]
     },
     "execution_count": 82,
     "metadata": {},
     "output_type": "execute_result"
    }
   ],
   "source": [
    "chipo.item_price.dtype"
   ]
  },
  {
   "cell_type": "markdown",
   "metadata": {},
   "source": [
    "# Шаг 14. Какова была выручка за период в наборе данных?"
   ]
  },
  {
   "cell_type": "code",
   "execution_count": 83,
   "metadata": {
    "collapsed": false,
    "execution": {
     "iopub.execute_input": "2025-08-29T19:12:05.575441Z",
     "iopub.status.busy": "2025-08-29T19:12:05.575066Z",
     "iopub.status.idle": "2025-08-29T19:12:05.581486Z",
     "shell.execute_reply": "2025-08-29T19:12:05.580396Z",
     "shell.execute_reply.started": "2025-08-29T19:12:05.575412Z"
    },
    "jupyter": {
     "outputs_hidden": false
    }
   },
   "outputs": [
    {
     "name": "stdout",
     "output_type": "stream",
     "text": [
      "Revenue: $39237.02\n"
     ]
    }
   ],
   "source": [
    "revenue = (chipo['quantity']* chipo['item_price']).sum()\n",
    "\n",
    "print('Revenue: $' + str(revenue))"
   ]
  },
  {
   "cell_type": "markdown",
   "metadata": {},
   "source": [
    "# Шаг 15. Сколько заказов было сделано за период?"
   ]
  },
  {
   "cell_type": "code",
   "execution_count": 84,
   "metadata": {
    "collapsed": false,
    "execution": {
     "iopub.execute_input": "2025-08-29T19:12:06.060113Z",
     "iopub.status.busy": "2025-08-29T19:12:06.059740Z",
     "iopub.status.idle": "2025-08-29T19:12:06.067315Z",
     "shell.execute_reply": "2025-08-29T19:12:06.066803Z",
     "shell.execute_reply.started": "2025-08-29T19:12:06.060085Z"
    },
    "jupyter": {
     "outputs_hidden": false
    }
   },
   "outputs": [
    {
     "data": {
      "text/plain": [
       "np.int64(1834)"
      ]
     },
     "execution_count": 84,
     "metadata": {},
     "output_type": "execute_result"
    }
   ],
   "source": [
    "orders = chipo['order_id'].value_counts().count()\n",
    "orders"
   ]
  },
  {
   "cell_type": "markdown",
   "metadata": {},
   "source": [
    "# Шаг 16. Какой средний чек с одного заказа?"
   ]
  },
  {
   "cell_type": "code",
   "execution_count": 85,
   "metadata": {
    "collapsed": false,
    "execution": {
     "iopub.execute_input": "2025-08-29T19:12:06.460787Z",
     "iopub.status.busy": "2025-08-29T19:12:06.460413Z",
     "iopub.status.idle": "2025-08-29T19:12:06.471563Z",
     "shell.execute_reply": "2025-08-29T19:12:06.470858Z",
     "shell.execute_reply.started": "2025-08-29T19:12:06.460758Z"
    },
    "jupyter": {
     "outputs_hidden": false
    }
   },
   "outputs": [
    {
     "data": {
      "text/plain": [
       "np.float64(21.39423118865867)"
      ]
     },
     "execution_count": 85,
     "metadata": {},
     "output_type": "execute_result"
    }
   ],
   "source": [
    "# Решение 1\n",
    "\n",
    "chipo['revenue'] = chipo['quantity'] * chipo['item_price']\n",
    "order_grouped = chipo.groupby('order_id').sum()\n",
    "order_grouped.revenue.mean()"
   ]
  },
  {
   "cell_type": "code",
   "execution_count": 86,
   "metadata": {
    "collapsed": false,
    "execution": {
     "iopub.execute_input": "2025-08-29T19:12:06.714248Z",
     "iopub.status.busy": "2025-08-29T19:12:06.713871Z",
     "iopub.status.idle": "2025-08-29T19:12:06.722597Z",
     "shell.execute_reply": "2025-08-29T19:12:06.721873Z",
     "shell.execute_reply.started": "2025-08-29T19:12:06.714219Z"
    },
    "jupyter": {
     "outputs_hidden": false
    }
   },
   "outputs": [
    {
     "data": {
      "text/plain": [
       "np.float64(21.39423118865867)"
      ]
     },
     "execution_count": 86,
     "metadata": {},
     "output_type": "execute_result"
    }
   ],
   "source": [
    "# Решение 2\n",
    "\n",
    "chipo.groupby('order_id')['revenue'].sum().mean()"
   ]
  },
  {
   "cell_type": "markdown",
   "metadata": {},
   "source": [
    "# Шаг 17. Сколько разных товаров продано?"
   ]
  },
  {
   "cell_type": "code",
   "execution_count": 87,
   "metadata": {
    "execution": {
     "iopub.execute_input": "2025-08-29T19:12:07.460623Z",
     "iopub.status.busy": "2025-08-29T19:12:07.460248Z",
     "iopub.status.idle": "2025-08-29T19:12:07.467767Z",
     "shell.execute_reply": "2025-08-29T19:12:07.466806Z",
     "shell.execute_reply.started": "2025-08-29T19:12:07.460593Z"
    }
   },
   "outputs": [
    {
     "data": {
      "text/plain": [
       "np.int64(50)"
      ]
     },
     "execution_count": 87,
     "metadata": {},
     "output_type": "execute_result"
    }
   ],
   "source": [
    "chipo['item_name'].value_counts().count()"
   ]
  }
 ],
 "metadata": {
  "anaconda-cloud": {},
  "kernelspec": {
   "display_name": "Python [conda env:base] *",
   "language": "python",
   "name": "conda-base-py"
  },
  "language_info": {
   "codemirror_mode": {
    "name": "ipython",
    "version": 3
   },
   "file_extension": ".py",
   "mimetype": "text/x-python",
   "name": "python",
   "nbconvert_exporter": "python",
   "pygments_lexer": "ipython3",
   "version": "3.13.5"
  }
 },
 "nbformat": 4,
 "nbformat_minor": 4
}
